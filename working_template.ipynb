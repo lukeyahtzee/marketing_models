{
 "cells": [
  {
   "cell_type": "code",
   "execution_count": 2,
   "id": "e9180bc5-a218-4517-95c6-5dc47ccacc33",
   "metadata": {},
   "outputs": [
    {
     "name": "stdout",
     "output_type": "stream",
     "text": [
      "packages ready to go\n"
     ]
    }
   ],
   "source": [
    "from datetime import timedelta\n",
    "import pandas as pd\n",
    "\n",
    "import matplotlib.pyplot as plt\n",
    "import seaborn as sns\n",
    "import squarify\n",
    "print('packages ready to go')"
   ]
  },
  {
   "cell_type": "code",
   "execution_count": 3,
   "id": "ea41be05-e234-4c8d-8188-7681fc763b56",
   "metadata": {},
   "outputs": [],
   "source": [
    "df = pd.read_csv('sample_superstore.csv')"
   ]
  }
 ],
 "metadata": {
  "kernelspec": {
   "display_name": "Python 3 (ipykernel)",
   "language": "python",
   "name": "python3"
  },
  "language_info": {
   "codemirror_mode": {
    "name": "ipython",
    "version": 3
   },
   "file_extension": ".py",
   "mimetype": "text/x-python",
   "name": "python",
   "nbconvert_exporter": "python",
   "pygments_lexer": "ipython3",
   "version": "3.7.10"
  }
 },
 "nbformat": 4,
 "nbformat_minor": 5
}
